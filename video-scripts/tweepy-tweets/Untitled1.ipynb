{
 "cells": [
  {
   "cell_type": "code",
   "execution_count": 1,
   "id": "83a0ef27",
   "metadata": {},
   "outputs": [],
   "source": [
    "import tweepy\n",
    "from transformers import pipeline\n",
    "import sys\n",
    "sys.path.append('../../../../SECRETS')\n",
    "import TWITTER_API"
   ]
  },
  {
   "cell_type": "code",
   "execution_count": 2,
   "id": "1b11092a",
   "metadata": {},
   "outputs": [],
   "source": [
    "client = tweepy.Client(TWITTER_API.BEARER_TOKEN)"
   ]
  },
  {
   "cell_type": "code",
   "execution_count": 3,
   "id": "c310be35",
   "metadata": {},
   "outputs": [],
   "source": [
    "user = client.get_user(username = 'elonmusk')\n",
    "response = client.get_users_tweets(user.data['id'],\n",
    "                                  max_results=100,\n",
    "                                  exclude='replies')"
   ]
  },
  {
   "cell_type": "code",
   "execution_count": 4,
   "id": "3726bd7c",
   "metadata": {},
   "outputs": [
    {
     "name": "stdout",
     "output_type": "stream",
     "text": [
      "['500 mile range &amp; super fun to drive', 'Excited to announce start of production of Tesla Semi Truck with deliveries to @Pepsi on Dec 1st! https://t.co/gq0l73iGRW']\n"
     ]
    }
   ],
   "source": [
    "tweets = [response.data[8]['text'],\n",
    "         response.data[9]['text']]\n",
    "print(tweets)"
   ]
  },
  {
   "cell_type": "code",
   "execution_count": 5,
   "id": "cef19f3b",
   "metadata": {},
   "outputs": [],
   "source": [
    "sentiment_pipeline = pipeline(\"sentiment-analysis\",\n",
    "        model = 'cardiffnlp/twitter-roberta-base-sentiment')\n",
    "output = sentiment_pipeline(tweets)"
   ]
  },
  {
   "cell_type": "code",
   "execution_count": 6,
   "id": "98c9f219",
   "metadata": {},
   "outputs": [
    {
     "data": {
      "text/plain": [
       "[{'label': 'LABEL_2', 'score': 0.9514637589454651},\n",
       " {'label': 'LABEL_2', 'score': 0.9855800867080688}]"
      ]
     },
     "execution_count": 6,
     "metadata": {},
     "output_type": "execute_result"
    }
   ],
   "source": [
    "# label 0 -> negative, 1-> neutral, 2->positive\n",
    "output"
   ]
  },
  {
   "cell_type": "code",
   "execution_count": null,
   "id": "e34716de",
   "metadata": {},
   "outputs": [],
   "source": []
  }
 ],
 "metadata": {
  "kernelspec": {
   "display_name": "Python 3 (ipykernel)",
   "language": "python",
   "name": "python3"
  },
  "language_info": {
   "codemirror_mode": {
    "name": "ipython",
    "version": 3
   },
   "file_extension": ".py",
   "mimetype": "text/x-python",
   "name": "python",
   "nbconvert_exporter": "python",
   "pygments_lexer": "ipython3",
   "version": "3.10.6"
  }
 },
 "nbformat": 4,
 "nbformat_minor": 5
}
