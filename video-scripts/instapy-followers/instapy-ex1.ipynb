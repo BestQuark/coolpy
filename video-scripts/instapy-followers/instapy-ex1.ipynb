{
 "cells": [
  {
   "cell_type": "code",
   "execution_count": 1,
   "id": "2960c21a",
   "metadata": {},
   "outputs": [],
   "source": [
    "import asyncio\n",
    "from instagrapi import Client\n",
    "from my_credentials import *"
   ]
  },
  {
   "cell_type": "code",
   "execution_count": 2,
   "id": "04b40bbc",
   "metadata": {},
   "outputs": [
    {
     "name": "stderr",
     "output_type": "stream",
     "text": [
      "Status 429: Too many requests\n",
      "Ignore 429: Continue login\n"
     ]
    },
    {
     "data": {
      "text/plain": [
       "True"
      ]
     },
     "execution_count": 2,
     "metadata": {},
     "output_type": "execute_result"
    }
   ],
   "source": [
    "cl = Client()\n",
    "cl.login(ACCOUNT_USERNAME, ACCOUNT_PASSWORD)"
   ]
  },
  {
   "cell_type": "code",
   "execution_count": 3,
   "id": "7973390f",
   "metadata": {},
   "outputs": [
    {
     "name": "stdout",
     "output_type": "stream",
     "text": [
      "1962920\n"
     ]
    }
   ],
   "source": [
    "user_id = cl.user_id_from_username(\"borisjohnsonuk\")\n",
    "user_info = cl.user_info(user_id).dict()\n",
    "print(user_info['follower_count'])"
   ]
  },
  {
   "cell_type": "code",
   "execution_count": 4,
   "id": "7a955af8",
   "metadata": {},
   "outputs": [
    {
     "name": "stdout",
     "output_type": "stream",
     "text": [
      "['norfolkrunningman', '53mobilecovers', 'nataliiapak8916', 'lindaajonsson', 'lilyharris7002', 'wendycarling', 'janna.ir', 'helenmari62', 'lucasethan23526', 'evgeniiapetrova6392']\n"
     ]
    }
   ],
   "source": [
    "followers = cl.user_followers(user_id, amount = 10)\n",
    "print([f.dict()['username'] for f in followers.values()])"
   ]
  },
  {
   "cell_type": "code",
   "execution_count": 6,
   "id": "5e2bc2d4",
   "metadata": {},
   "outputs": [],
   "source": [
    "fs = cl.user_followers(user_id, amount = 10)\n",
    "fl = set(\n",
    "    [f.dict()['username'] for f in fs.values()])\n",
    "async def track_followers():\n",
    "    while True:\n",
    "        global fs, fl\n",
    "        new_fs = cl.user_followers(user_id, amount=10)\n",
    "        new_fl = set(\n",
    "            [f.dict()['username'] for f in new_fs.values()]\n",
    "        )\n",
    "        print(\"New follows: \", list(new_fl-fl))\n",
    "        print(\"New unfollows: \", list(fl-new_fl))\n",
    "        print(\"------------------------\")\n",
    "        fs, fl = new_fs, new_fl\n",
    "        await asyncio.sleep(10)"
   ]
  },
  {
   "cell_type": "code",
   "execution_count": 7,
   "id": "6c14a4bd",
   "metadata": {},
   "outputs": [
    {
     "name": "stdout",
     "output_type": "stream",
     "text": [
      "New follows:  []\n",
      "New unfollows:  []\n",
      "------------------------\n",
      "New follows:  []\n",
      "New unfollows:  []\n",
      "------------------------\n",
      "New follows:  []\n",
      "New unfollows:  []\n",
      "------------------------\n"
     ]
    }
   ],
   "source": [
    "task = asyncio.create_task(track_followers())"
   ]
  },
  {
   "cell_type": "code",
   "execution_count": null,
   "id": "86914d59",
   "metadata": {},
   "outputs": [],
   "source": []
  }
 ],
 "metadata": {
  "kernelspec": {
   "display_name": "Python 3 (ipykernel)",
   "language": "python",
   "name": "python3"
  },
  "language_info": {
   "codemirror_mode": {
    "name": "ipython",
    "version": 3
   },
   "file_extension": ".py",
   "mimetype": "text/x-python",
   "name": "python",
   "nbconvert_exporter": "python",
   "pygments_lexer": "ipython3",
   "version": "3.10.6"
  }
 },
 "nbformat": 4,
 "nbformat_minor": 5
}
