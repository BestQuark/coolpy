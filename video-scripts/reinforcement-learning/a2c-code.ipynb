{
 "cells": [
  {
   "cell_type": "code",
   "execution_count": null,
   "id": "2be4c676",
   "metadata": {},
   "outputs": [],
   "source": [
    "from stable_baselines3 import A2C\n",
    "from stable_baselines3.common.env_util import make_atari_env\n",
    "from stable_baselines3.common.vec_env import VecFrameStack"
   ]
  },
  {
   "cell_type": "code",
   "execution_count": null,
   "id": "4e6d6084",
   "metadata": {},
   "outputs": [],
   "source": [
    "env = make_atari_env('ALE/Breakout-v5')\n",
    "env = VecFrameStack(env, n_stack=4)"
   ]
  },
  {
   "cell_type": "code",
   "execution_count": null,
   "id": "09ae2aed",
   "metadata": {},
   "outputs": [],
   "source": [
    "model = A2C('CnnPolicy', env, verbose=0)\n",
    "model.learn(total_timesteps=1e5)"
   ]
  },
  {
   "cell_type": "code",
   "execution_count": null,
   "id": "bf7d1483",
   "metadata": {},
   "outputs": [],
   "source": [
    "from stable_baselines3.common.vec_env import VecVideoRecorder\n",
    "import imageio\n",
    "\n",
    "video_folder = 'logs/videos/'\n",
    "video_length = 1000\n",
    "\n",
    "obs = env.reset()\n",
    "\n",
    "env = VecVideoRecorder(env, video_folder,\n",
    "                       record_video_trigger=lambda x: x == 0, \n",
    "                       video_length=video_length,\n",
    "                       name_prefix=f\"TRAINED-agent\")\n",
    "\n",
    "obs = env.reset()\n",
    "for _ in range(video_length + 1):\n",
    "    action, _ = model.predict(obs)\n",
    "#     action = [env.action_space.sample()]\n",
    "    obs, _, _, _ = env.step(action)\n",
    "\n",
    "env.close()"
   ]
  },
  {
   "cell_type": "code",
   "execution_count": null,
   "id": "417c603d",
   "metadata": {},
   "outputs": [],
   "source": []
  }
 ],
 "metadata": {
  "kernelspec": {
   "display_name": "Python 3 (ipykernel)",
   "language": "python",
   "name": "python3"
  },
  "language_info": {
   "codemirror_mode": {
    "name": "ipython",
    "version": 3
   },
   "file_extension": ".py",
   "mimetype": "text/x-python",
   "name": "python",
   "nbconvert_exporter": "python",
   "pygments_lexer": "ipython3",
   "version": "3.10.6"
  }
 },
 "nbformat": 4,
 "nbformat_minor": 5
}
